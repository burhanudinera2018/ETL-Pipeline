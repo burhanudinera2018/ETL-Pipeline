{
 "cells": [
  {
   "cell_type": "code",
   "execution_count": null,
   "id": "9ad7c0e8",
   "metadata": {},
   "outputs": [],
   "source": [
    "# Import the libraries\n",
    "from datetime import timedelta\n",
    "from airflow import DAG \n",
    "from airflow.operators.bash_operator import BashOperator\n",
    "from airflow.utils.dates import days_ago\n",
    "\n",
    "# STEP 1.1 - Define DAG arguments\n",
    "default_args = {\n",
    "    'owner':'Burhanudin Badiuzaman',\n",
    "    'start_date':days_ago(0),\n",
    "    'email':['burhanudinera2018@gmail.com'],\n",
    "    'email_on_failure':True,\n",
    "    'email_on_retry':True,\n",
    "    'retries':1,\n",
    "    'retry_delay':timedelta(minutes = 5)\n",
    "}\n",
    "\n",
    "# Task 1.2 - Define the DAG\n",
    "dag = DAG(\n",
    "    'ETL_toll_data',\n",
    "    default_args=default_args,\n",
    "    description='Apache Airflow Technical Test Assignment',\n",
    "    schedule_interval=timedelta(days=1),\n",
    ")\n",
    "\n"
   ]
  },
  {
   "cell_type": "code",
   "execution_count": null,
   "id": "6cd7c01d",
   "metadata": {},
   "outputs": [],
   "source": []
  }
 ],
 "metadata": {
  "kernelspec": {
   "display_name": "Python 3 (ipykernel)",
   "language": "python",
   "name": "python3"
  },
  "language_info": {
   "codemirror_mode": {
    "name": "ipython",
    "version": 3
   },
   "file_extension": ".py",
   "mimetype": "text/x-python",
   "name": "python",
   "nbconvert_exporter": "python",
   "pygments_lexer": "ipython3",
   "version": "3.10.9"
  }
 },
 "nbformat": 4,
 "nbformat_minor": 5
}
